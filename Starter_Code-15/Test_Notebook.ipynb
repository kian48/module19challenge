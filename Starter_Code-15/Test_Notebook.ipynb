{
 "cells": [
  {
   "cell_type": "code",
   "execution_count": 1,
   "id": "d1b93da0-9829-48ef-ad35-f1d0c79491c0",
   "metadata": {},
   "outputs": [],
   "source": [
    "from dataclasses import dataclass\n",
    "from typing import Any, List\n",
    "import os\n",
    "import requests\n",
    "from dotenv import load_dotenv\n",
    "load_dotenv()\n",
    "from bip44 import Wallet\n",
    "from web3 import Account\n",
    "from web3.auto.infura.kovan import w3\n",
    "from web3 import middleware\n",
    "from web3.gas_strategies.time_based import medium_gas_price_strategy\n",
    "\n",
    "################################################################################\n",
    "# Wallet functionality\n",
    "\n",
    "def generate_account():\n",
    "    \"\"\"Create a digital wallet and Ethereum account from a mnemonic seed phrase.\"\"\"\n",
    "    # Fetch mnemonic from environment variable.\n",
    "    mnemonic = os.getenv(\"MNEMONIC\")\n",
    "\n",
    "    # Create Wallet Object\n",
    "    wallet = Wallet(mnemonic)\n",
    "\n",
    "    # Derive Ethereum Private Key\n",
    "    private, public = wallet.derive_account(\"eth\")\n",
    "\n",
    "    # Convert private key into an Ethereum account\n",
    "    account = Account.privateKeyToAccount(private)\n",
    "\n",
    "    return account\n",
    "\n",
    "def get_balance(address):\n",
    "    \"\"\"Using an Ethereum account address access the balance of Ether\"\"\"\n",
    "    # Get balance of address in Wei\n",
    "    wei_balance = w3.eth.get_balance(address)\n",
    "\n",
    "    # Convert Wei value to ether\n",
    "    ether = w3.fromWei(wei_balance, \"ether\")\n",
    "\n",
    "    # Return the value in ether\n",
    "    return ether\n",
    "\n",
    "\n",
    "def send_transaction(account, to, wage):\n",
    "    \"\"\"Send an authorized transaction to the Kovan testnet.\"\"\"\n",
    "    # Set gas price strategy\n",
    "    w3.eth.setGasPriceStrategy(medium_gas_price_strategy)\n",
    "\n",
    "    # Convert eth amount to Wei\n",
    "    value = w3.toWei(wage, \"ether\")\n",
    "\n",
    "    # Calculate gas estimate\n",
    "    gasEstimate = w3.eth.estimateGas({\"to\": to, \"from\": account.address, \"value\": value})\n",
    "\n",
    "    # Construct a raw transaction\n",
    "    raw_tx = {\n",
    "        \"to\": to,\n",
    "        \"from\": account.address,\n",
    "        \"value\": value,\n",
    "        \"gas\": gasEstimate,\n",
    "        \"gasPrice\": w3.eth.generateGasPrice(),\n",
    "        \"nonce\": w3.eth.getTransactionCount(account.address)\n",
    "    }\n",
    "\n",
    "    # Sign the raw transaction with ethereum account\n",
    "    signed_tx = account.signTransaction(raw_tx)\n",
    "\n",
    "    # Send the signed transactions\n",
    "    return w3.eth.sendRawTransaction(signed_tx.rawTransaction)\n"
   ]
  },
  {
   "cell_type": "code",
   "execution_count": 2,
   "id": "37bb95c2-1deb-46bd-82f6-a1bdefd90f25",
   "metadata": {},
   "outputs": [
    {
     "ename": "SyntaxError",
     "evalue": "unexpected EOF while parsing (406056572.py, line 17)",
     "output_type": "error",
     "traceback": [
      "\u001b[0;36m  File \u001b[0;32m\"/var/folders/j6/8q1kc63s72b03_qk7f0z_5700000gn/T/ipykernel_11050/406056572.py\"\u001b[0;36m, line \u001b[0;32m17\u001b[0m\n\u001b[0;31m    \u001b[0m\n\u001b[0m    ^\u001b[0m\n\u001b[0;31mSyntaxError\u001b[0m\u001b[0;31m:\u001b[0m unexpected EOF while parsing\n"
     ]
    }
   ],
   "source": [
    "candidate_database = {\n",
    "    \"Lane\": [\"Lane\", \"0xaC8eB8B2ed5C4a0fC41a84Ee4950F417f67029F0\", \"4.3\", .20, \"Images/lane.jpeg\"],\n",
    "    \"Ash\": [\"Ash\", \"0x2422858F9C4480c2724A309D58Ffd7Ac8bF65396\", \"5.0\", .33, \"Images/ash.jpeg\"],\n",
    "    \"Jo\": [\"Jo\", \"0x8fD00f170FDf3772C5ebdCD90bF257316c69BA45\", \"4.7\", .19, \"Images/jo.jpeg\"],\n",
    "    \"Kendall\": [\"Kendall\", \"0x8fD00f170FDf3772C5ebdCD90bF257316c69BA45\", \"4.1\", .16, \"Images/kendall.jpeg\"]\n",
    "}\n",
    "\n",
    "# A list of the FinTech Finder candidates first names\n",
    "people = [\"Lane\", \"Ash\", \"Jo\", \"Kendall\"]\n",
    "\n",
    "\n",
    "def get_people():\n",
    "    \"\"\"Display the database of Fintech Finders candidate information.\"\"\"\n",
    "    db_list = list(candidate_database.values())\n",
    "    \n",
    "    for number in range(len(people)):\n",
    "        "
   ]
  },
  {
   "cell_type": "code",
   "execution_count": 12,
   "id": "a3da4b26-551e-48af-80c8-9e37d9f3d44c",
   "metadata": {},
   "outputs": [
    {
     "data": {
      "text/plain": [
       "4"
      ]
     },
     "execution_count": 12,
     "metadata": {},
     "output_type": "execute_result"
    }
   ],
   "source": [
    "db_list = list(candidate_database.values())\n",
    "len(db_list)"
   ]
  },
  {
   "cell_type": "code",
   "execution_count": null,
   "id": "baf11004-524f-486e-8918-f10ca12f1d33",
   "metadata": {},
   "outputs": [],
   "source": []
  }
 ],
 "metadata": {
  "kernelspec": {
   "display_name": "dev",
   "language": "python",
   "name": "dev"
  },
  "language_info": {
   "codemirror_mode": {
    "name": "ipython",
    "version": 3
   },
   "file_extension": ".py",
   "mimetype": "text/x-python",
   "name": "python",
   "nbconvert_exporter": "python",
   "pygments_lexer": "ipython3",
   "version": "3.7.10"
  }
 },
 "nbformat": 4,
 "nbformat_minor": 5
}
